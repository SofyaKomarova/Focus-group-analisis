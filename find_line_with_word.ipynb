{
 "cells": [
  {
   "cell_type": "code",
   "execution_count": 24,
   "metadata": {},
   "outputs": [
    {
     "name": "stdout",
     "output_type": "stream",
     "text": [
      "Enter the word to search in the file--> bambini\n"
     ]
    }
   ],
   "source": [
    "s = input('Enter the word to search in the file--> ') \n",
    " \n",
    "fp = 'focus_group1.txt' #//'fp' variable will store the filepath to the file \n",
    "f = open(fp)  # //'f'  #variable will be used as file accessor \n",
    "flag = index = 0 \n",
    " \n",
    "for line in f: \n",
    "    line.strip().split('\\n') \n",
    "    index+=1 \n",
    "    if s in line: \n",
    "       flag = 1 \n",
    "       break \n",
    " \n",
    "if flag == 0: \n",
    "   print(f\"Sorry couldn't find {s}\") \n",
    "else: \n",
    "   print(f'Found {s} in line {index}') \n",
    " \n",
    "f.close() "
   ]
  },
  {
   "cell_type": "code",
   "execution_count": 12,
   "metadata": {},
   "outputs": [
    {
     "name": "stdout",
     "output_type": "stream",
     "text": [
      "Per tutti gli apprendimenti vale per i bambini vale anche per noi adulti ed esperienze che ti formano?\n",
      "\n",
      "Però, ma tu, cioè, potrebbe mancare, ad esempio, proprio il movimento della mano che invece è quello?\n",
      "\n",
      "Sì, che poi magari invece si potrebbe costruire no, perché se la mangi, gru riesce anche a interpretare i movimenti. Un chiodo della mia mano e.\n",
      "\n",
      "Più dice molto no. Il a parte che, insomma, la mano e la prima, cioè la prima parte del corpo che utilizziamo per conoscere il mondo, quindi ci sta.\n",
      "\n",
      "Tutto un movimento della mano non è così banale.\n",
      "\n",
      "A caso, burattino, cioè nasce e si muove con la mano.\n",
      "\n"
     ]
    }
   ],
   "source": [
    "import re\n",
    "\n",
    "file = open('focus_group_session2.txt', 'r')\n",
    "\n",
    "for line in file.readlines():\n",
    "   if re.search('mano', line, re.I):\n",
    "    print(line)"
   ]
  },
  {
   "cell_type": "code",
   "execution_count": null,
   "metadata": {},
   "outputs": [],
   "source": []
  },
  {
   "cell_type": "code",
   "execution_count": null,
   "metadata": {},
   "outputs": [],
   "source": []
  }
 ],
 "metadata": {
  "kernelspec": {
   "display_name": "Python 3",
   "language": "python",
   "name": "python3"
  },
  "language_info": {
   "codemirror_mode": {
    "name": "ipython",
    "version": 3
   },
   "file_extension": ".py",
   "mimetype": "text/x-python",
   "name": "python",
   "nbconvert_exporter": "python",
   "pygments_lexer": "ipython3",
   "version": "3.8.3"
  }
 },
 "nbformat": 4,
 "nbformat_minor": 4
}
